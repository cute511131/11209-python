{
 "cells": [
  {
   "cell_type": "code",
   "execution_count": null,
   "metadata": {},
   "outputs": [],
   "source": [
    "import random\n",
    "while(True):\n",
    "    dice1 = random.randint(1, 6)\n",
    "    dice2 = random.randint(1, 6)\n",
    "    dice3 = random.randint(1, 6)\n",
    "    dice4 = random.randint(1, 6)\n",
    "    class Player:\n",
    "        def __init__(self,name:str):\n",
    "            self.name=name\n",
    "            self.dice_rolls = [dice1, 3, 5, 5]\n",
    "            self.score = 15\n",
    "\n",
    "        def __play() -> int:\n",
    "            pass\n",
    "\n",
    "        @property\n",
    "        def value(self) -> int:\n",
    "            #呼叫self.__play()\n",
    "            pass\n",
    "\n",
    "        def __repr__(self) -> str:\n",
    "            descript = \"\"\n",
    "            descript += \"徐國堂\\n\"\n",
    "            descript += \"骰子1=5\\n\"\n",
    "            descript += \"骰子2=3\\n\"\n",
    "            descript += \"骰子3=5\\n\"\n",
    "            descript += \"骰子4=5\\n\"\n",
    "            descript += \"得分=15分\"\n",
    "            return descript\n",
    "        \n",
    "    if __name__ == \"__main__\":\n",
    "        p1 = Player(\"robert\")\n",
    "        print(p1.value)\n",
    "        print(p1)\n",
    "\n",
    "        p2 = Player(\"robert\")\n",
    "        print(p2.value)\n",
    "        print(p2)"
   ]
  },
  {
   "cell_type": "code",
   "execution_count": 1,
   "metadata": {},
   "outputs": [
    {
     "name": "stdout",
     "output_type": "stream",
     "text": [
      "徐國堂\n",
      "骰子1=5\n",
      "骰子2=3\n",
      "骰子3=5\n",
      "骰子4=5\n",
      "得分=15分\n"
     ]
    }
   ],
   "source": [
    "class MyClass:\n",
    "    def __init__(self):\n",
    "        self.name = \"徐國堂\"\n",
    "        self.dice_rolls = [5, 3, 5, 5]\n",
    "        self.score = 15\n",
    "\n",
    "    def __repr__(self) -> str:\n",
    "        descript = \"\"\n",
    "        descript += f\"{self.name}\\n\"\n",
    "        for i, roll in enumerate(self.dice_rolls, 1):\n",
    "            descript += f\"骰子{i}={roll}\\n\"\n",
    "        descript += f\"得分={self.score}分\"\n",
    "        return descript\n",
    "\n",
    "# Create an object of MyClass\n",
    "obj = MyClass()\n",
    "\n",
    "# Call __repr__ to get the string representation\n",
    "description = repr(obj)\n",
    "\n",
    "# Print the description\n",
    "print(description)\n",
    "\n",
    "\n"
   ]
  }
 ],
 "metadata": {
  "kernelspec": {
   "display_name": ".venv",
   "language": "python",
   "name": "python3"
  },
  "language_info": {
   "codemirror_mode": {
    "name": "ipython",
    "version": 3
   },
   "file_extension": ".py",
   "mimetype": "text/x-python",
   "name": "python",
   "nbconvert_exporter": "python",
   "pygments_lexer": "ipython3",
   "version": "3.10.8"
  },
  "orig_nbformat": 4
 },
 "nbformat": 4,
 "nbformat_minor": 2
}
