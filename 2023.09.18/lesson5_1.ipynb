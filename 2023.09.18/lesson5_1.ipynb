{
 "cells": [
  {
   "cell_type": "code",
   "execution_count": 1,
   "metadata": {},
   "outputs": [
    {
     "data": {
      "text/plain": [
       "(3.5, 3)"
      ]
     },
     "execution_count": 1,
     "metadata": {},
     "output_type": "execute_result"
    }
   ],
   "source": [
    "(7/2,7//2)"
   ]
  },
  {
   "cell_type": "code",
   "execution_count": 3,
   "metadata": {},
   "outputs": [
    {
     "data": {
      "text/plain": [
       "float"
      ]
     },
     "execution_count": 3,
     "metadata": {},
     "output_type": "execute_result"
    }
   ],
   "source": [
    "n1 = 5\n",
    "n1=5.0\n",
    "type(n1)"
   ]
  },
  {
   "cell_type": "code",
   "execution_count": 4,
   "metadata": {},
   "outputs": [
    {
     "data": {
      "text/plain": [
       "'30'"
      ]
     },
     "execution_count": 4,
     "metadata": {},
     "output_type": "execute_result"
    }
   ],
   "source": [
    "input('請輸入整數:')"
   ]
  },
  {
   "cell_type": "code",
   "execution_count": 5,
   "metadata": {},
   "outputs": [
    {
     "data": {
      "text/plain": [
       "50"
      ]
     },
     "execution_count": 5,
     "metadata": {},
     "output_type": "execute_result"
    }
   ],
   "source": [
    "int(input('請輸入整數'))"
   ]
  },
  {
   "cell_type": "code",
   "execution_count": 6,
   "metadata": {},
   "outputs": [
    {
     "data": {
      "text/plain": [
       "10"
      ]
     },
     "execution_count": 6,
     "metadata": {},
     "output_type": "execute_result"
    }
   ],
   "source": [
    "n=10\n",
    "n+20\n",
    "n"
   ]
  },
  {
   "cell_type": "code",
   "execution_count": 7,
   "metadata": {},
   "outputs": [
    {
     "data": {
      "text/plain": [
       "30"
      ]
     },
     "execution_count": 7,
     "metadata": {},
     "output_type": "execute_result"
    }
   ],
   "source": [
    "n=10\n",
    "n=n+20\n",
    "n"
   ]
  },
  {
   "cell_type": "code",
   "execution_count": 8,
   "metadata": {},
   "outputs": [
    {
     "data": {
      "text/plain": [
       "40"
      ]
     },
     "execution_count": 8,
     "metadata": {},
     "output_type": "execute_result"
    }
   ],
   "source": [
    "n=20\n",
    "n+=20\n",
    "n"
   ]
  },
  {
   "cell_type": "code",
   "execution_count": 1,
   "metadata": {},
   "outputs": [
    {
     "name": "stdout",
     "output_type": "stream",
     "text": [
      "3數相加的值是: 6.0\n"
     ]
    }
   ],
   "source": [
    "#請以(複合指定運算子)設計程式,讓使用者輸入三個任意數,程式會顯示3數相加的總和(float)\n",
    "total = 0\n",
    "keyin = float(input('請輸入第1個數:'))\n",
    "total += keyin\n",
    "keyin = float(input('請輸入第2個數:'))\n",
    "total += keyin\n",
    "keyin = float(input('請輸入第3個數:'))\n",
    "total += keyin\n",
    "\n",
    "print(\"3數相加的值是:\", total)"
   ]
  },
  {
   "cell_type": "code",
   "execution_count": 8,
   "metadata": {},
   "outputs": [
    {
     "name": "stdout",
     "output_type": "stream",
     "text": [
      "梯形面積 15.0 平方公分\n"
     ]
    }
   ],
   "source": [
    "#讓使用者輸入梯形的上底、下底及高，程式會計算梯形的面積(上底加下底乘以高除以2)\n",
    "#請輸入梯形的上底(公分):5\n",
    "#請輸入梯形的下底(公分):10\n",
    "#請輸入梯形的高(公分):2\n",
    "total=0\n",
    "上底=float(input('請輸入上底:'))\n",
    "下底=float(input('請輸入下底:'))\n",
    "高=float(input(\"請輸入高:\"))\n",
    "total=(上底+下底)*高/2\n",
    "print('梯形面積',total,'平方公分')"
   ]
  },
  {
   "cell_type": "code",
   "execution_count": 20,
   "metadata": {},
   "outputs": [
    {
     "name": "stdout",
     "output_type": "stream",
     "text": [
      "對邊:2.5cm,斜邊:5.0cm,角度:30.0度\n"
     ]
    }
   ],
   "source": [
    "import math\n",
    "n1=float (input(\"請輸入對邊:\"))\n",
    "n2=float (input(\"請輸入斜邊:\"))\n",
    "radian=math.asin(n1/n2)\n",
    "#radian/math.pi*180\n",
    "#degrees= math.degrees(radian)\n",
    "degrees=round( math.degrees(radian),ndigits=2)\n",
    "#print(\"對邊:\",n1,\"cm\",\"斜邊:\",n2,\"cm\",\"角度:\",degrees,\"度\",sep=\"\",end=\".\\n\")\n",
    "#print('對邊:{0:.2f}cm,斜邊:{1:.2f}cm,角度:{2:.2f}度'.format(n1,n2,degrees))\n",
    "#print(f'對邊:{n1:.2f}cm,斜邊:{n2:.2f}cm,角度:{degrees:.2f}度')\n",
    "print(f\"對邊:{n1}cm,斜邊:{n2}cm,角度:{degrees}度\")\n"
   ]
  },
  {
   "cell_type": "code",
   "execution_count": 25,
   "metadata": {},
   "outputs": [
    {
     "data": {
      "text/plain": [
       "(5.94418483337567, 1.8257418583505538)"
      ]
     },
     "execution_count": 25,
     "metadata": {},
     "output_type": "execute_result"
    }
   ],
   "source": [
    "import statistics\n",
    "statistics.mean((0,5,9,14))\n",
    "statistics.mean((5,6,8,9))\n",
    "statistics.stdev((0,5,9,14)),statistics.stdev((5,6,8,9))\n"
   ]
  }
 ],
 "metadata": {
  "kernelspec": {
   "display_name": ".venv",
   "language": "python",
   "name": "python3"
  },
  "language_info": {
   "codemirror_mode": {
    "name": "ipython",
    "version": 3
   },
   "file_extension": ".py",
   "mimetype": "text/x-python",
   "name": "python",
   "nbconvert_exporter": "python",
   "pygments_lexer": "ipython3",
   "version": "3.10.8"
  },
  "orig_nbformat": 4
 },
 "nbformat": 4,
 "nbformat_minor": 2
}
