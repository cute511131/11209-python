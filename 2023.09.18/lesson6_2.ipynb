{
 "cells": [
  {
   "cell_type": "code",
   "execution_count": 3,
   "metadata": {},
   "outputs": [
    {
     "name": "stdout",
     "output_type": "stream",
     "text": [
      "Help on function inputStr in module pyinputplus:\n",
      "\n",
      "inputStr(prompt='', default=None, blank=False, timeout=None, limit=None, strip=None, allowRegexes=None, blockRegexes=None, applyFunc=None, postValidateApplyFunc=None)\n",
      "    Prompts the user to enter any string input. This is similar to Python's ``input()``\n",
      "    and ``raw_input()`` functions, but with PyInputPlus's additional features\n",
      "    such as timeouts, retry limits, stripping, allowlist/blocklist, etc.\n",
      "    \n",
      "    Validation can be performed by the validationFunc argument, which raises\n",
      "    an exception if the input is invalid. The exception message is used to\n",
      "    tell the user why the input is invalid.\n",
      "    \n",
      "    Run ``help(pyinputplus.parameters)`` for an explanation of the common parameters.\n",
      "    \n",
      "    >>> result = inputStr('Enter name> ')\n",
      "    Enter name> Al\n",
      "    >>> result\n",
      "    'Al'\n",
      "\n"
     ]
    }
   ],
   "source": [
    "import pyinputplus as pyip\n",
    "\n",
    "\n",
    "help(pyip.inputStr)"
   ]
  },
  {
   "cell_type": "code",
   "execution_count": 3,
   "metadata": {},
   "outputs": [
    {
     "name": "stdout",
     "output_type": "stream",
     "text": [
      "請輸入您的姓名:"
     ]
    },
    {
     "data": {
      "text/plain": [
       "'555'"
      ]
     },
     "execution_count": 3,
     "metadata": {},
     "output_type": "execute_result"
    }
   ],
   "source": [
    "pyinputplus.inputStr(prompt='請輸入您的姓名:')"
   ]
  },
  {
   "cell_type": "code",
   "execution_count": 5,
   "metadata": {},
   "outputs": [
    {
     "name": "stdout",
     "output_type": "stream",
     "text": [
      "請輸入一組數字:"
     ]
    },
    {
     "data": {
      "text/plain": [
       "588888"
      ]
     },
     "execution_count": 5,
     "metadata": {},
     "output_type": "execute_result"
    }
   ],
   "source": [
    "pyip.inputNum(prompt='請輸入一組數字:')"
   ]
  },
  {
   "cell_type": "code",
   "execution_count": 13,
   "metadata": {},
   "outputs": [
    {
     "name": "stdout",
     "output_type": "stream",
     "text": [
      "請輸入學生分數(最高分300分):Number must be at maximum 300.\n",
      "請輸入學生分數(最高分300分):學生總分是:300\n"
     ]
    }
   ],
   "source": [
    "import pyinputplus as pyip\n",
    "scores = pyip.inputInt(prompt=\"請輸入學生分數(最高分300分):\",min=0,max=300)\n",
    "is_add = input(\"請問是否符合加分條件?(y,n)\")\n",
    "if is_add == \"y\":\n",
    "    scores *= 1.05\n",
    "    if scores > 300:\n",
    "     scores=300\n",
    "print(f\"學生總分是:{scores}\")\n"
   ]
  },
  {
   "cell_type": "code",
   "execution_count": 12,
   "metadata": {},
   "outputs": [
    {
     "name": "stdout",
     "output_type": "stream",
     "text": [
      "請輸入學生分數(最高分300分):學生總分是:300\n"
     ]
    }
   ],
   "source": [
    "import pyinputplus as pyip\n",
    "scores = pyip.inputInt(prompt=\"請輸入學生分數(最高分300分):\",min=0,max=300)\n",
    "is_add = input(\"請問是否符合加分條件?(y,n)\")\n",
    "if is_add == \"y\":\n",
    "    scores *= 1.05\n",
    "    if scores > 300:\n",
    "        scores = 300\n",
    "print(f\"學生總分是:{scores}\")"
   ]
  },
  {
   "cell_type": "code",
   "execution_count": 18,
   "metadata": {},
   "outputs": [
    {
     "name": "stdout",
     "output_type": "stream",
     "text": [
      "請輸入x:5\n",
      "請輸入y:5\n",
      "1.379729661461215\n"
     ]
    }
   ],
   "source": [
    "# 如果x不是負數，則傳回值為 x ** (1 / y)。\n",
    "# 如果x是負數而且為偶數，則傳回值為\"虛數\"。\n",
    "# 如果x是負數而且為奇數，則傳回值為 -(-x) ** (1 / y)\n",
    "import pyinputplus as pyip\n",
    "x=pyip.inputInt(\"請輸入x:\")\n",
    "print(x)\n",
    "y=pyip.inputInt(\"請輸入y:\")\n",
    "print(y)\n",
    "if x>=0:\n",
    "    root=x**(1/y)\n",
    "else:\n",
    "    if x % 2 ==0:\n",
    "    \n",
    "        root=\"虛數\"\n",
    "    else:\n",
    "        root=-(-x)**(1/y)\n",
    "print(root)"
   ]
  }
 ],
 "metadata": {
  "kernelspec": {
   "display_name": ".venv",
   "language": "python",
   "name": "python3"
  },
  "language_info": {
   "codemirror_mode": {
    "name": "ipython",
    "version": 3
   },
   "file_extension": ".py",
   "mimetype": "text/x-python",
   "name": "python",
   "nbconvert_exporter": "python",
   "pygments_lexer": "ipython3",
   "version": "3.10.8"
  },
  "orig_nbformat": 4
 },
 "nbformat": 4,
 "nbformat_minor": 2
}
