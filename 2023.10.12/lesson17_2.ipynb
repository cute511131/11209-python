{
 "cells": [
  {
   "cell_type": "code",
   "execution_count": 1,
   "metadata": {},
   "outputs": [
    {
     "data": {
      "text/plain": [
       "'徐國堂'"
      ]
     },
     "execution_count": 1,
     "metadata": {},
     "output_type": "execute_result"
    }
   ],
   "source": [
    "class Person():\n",
    "    def __init__(self,name):\n",
    "        self.name = name\n",
    "\n",
    "p1 = Person(name=\"徐國堂\")\n",
    "p1.name"
   ]
  },
  {
   "cell_type": "code",
   "execution_count": 10,
   "metadata": {},
   "outputs": [
    {
     "name": "stdout",
     "output_type": "stream",
     "text": [
      "姓名:長頸鹿\n",
      "age:18\n",
      "體重:44\n",
      "身高:166\n"
     ]
    }
   ],
   "source": [
    "class Person():\n",
    "    def __init__(self,name,age=18,weight=44,height=166):\n",
    "        self.name = name\n",
    "        self.age = age\n",
    "        self.weight=weight\n",
    "        self.height=height\n",
    "\n",
    "    def description(self):\n",
    "        print(f\"姓名:{self.name}\")\n",
    "        print(f\"age:{self.age}\")\n",
    "        print(f\"體重:{self.weight}\")\n",
    "        print(f\"身高:{self.height}\")\n",
    "\n",
    "p1 = Person(name=\"長頸鹿\")\n",
    "p1.description()"
   ]
  },
  {
   "cell_type": "code",
   "execution_count": 9,
   "metadata": {},
   "outputs": [
    {
     "name": "stdout",
     "output_type": "stream",
     "text": [
      "{'age': 23, 'height': 47, 'weight': 168}\n",
      "姓名:長頸鹿\n",
      "age:23\n",
      "體重:168\n",
      "身高:47\n",
      "id:555\n"
     ]
    }
   ],
   "source": [
    "class Student(Person):\n",
    "    def __init__(self,name,id,**kwargs):\n",
    "        #kwargs = {'age':22,'weight':45,'height':169}\n",
    "        print(kwargs)\n",
    "        super().__init__(name,**kwargs)\n",
    "        self.id = id\n",
    "    def description(self):\n",
    "        super().description()\n",
    "        print(f\"id:{self.id}\")\n",
    "\n",
    "stu1 = Student(name=\"長頸鹿\",id='555',age=23,height=47,weight=168)\n",
    "stu1.description()"
   ]
  }
 ],
 "metadata": {
  "kernelspec": {
   "display_name": ".venv",
   "language": "python",
   "name": "python3"
  },
  "language_info": {
   "codemirror_mode": {
    "name": "ipython",
    "version": 3
   },
   "file_extension": ".py",
   "mimetype": "text/x-python",
   "name": "python",
   "nbconvert_exporter": "python",
   "pygments_lexer": "ipython3",
   "version": "3.10.8"
  }
 },
 "nbformat": 4,
 "nbformat_minor": 2
}
