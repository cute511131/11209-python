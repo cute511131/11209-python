{
 "cells": [
  {
   "cell_type": "code",
   "execution_count": 4,
   "metadata": {},
   "outputs": [
    {
     "ename": "ModuleNotFoundError",
     "evalue": "No module named 'password'",
     "output_type": "error",
     "traceback": [
      "\u001b[1;31m---------------------------------------------------------------------------\u001b[0m",
      "\u001b[1;31mModuleNotFoundError\u001b[0m                       Traceback (most recent call last)",
      "\u001b[1;32mc:\\github\\11209-python-19\\2023.10.26hw\\air.ipynb 儲存格 1\u001b[0m line \u001b[0;36m4\n\u001b[0;32m      <a href='vscode-notebook-cell:/c%3A/github/11209-python-19/2023.10.26hw/air.ipynb#W0sZmlsZQ%3D%3D?line=1'>2</a>\u001b[0m \u001b[39mimport\u001b[39;00m \u001b[39msqlite3\u001b[39;00m\n\u001b[0;32m      <a href='vscode-notebook-cell:/c%3A/github/11209-python-19/2023.10.26hw/air.ipynb#W0sZmlsZQ%3D%3D?line=2'>3</a>\u001b[0m \u001b[39mfrom\u001b[39;00m \u001b[39mdatetime\u001b[39;00m \u001b[39mimport\u001b[39;00m datetime\n\u001b[1;32m----> <a href='vscode-notebook-cell:/c%3A/github/11209-python-19/2023.10.26hw/air.ipynb#W0sZmlsZQ%3D%3D?line=3'>4</a>\u001b[0m \u001b[39mfrom\u001b[39;00m \u001b[39mpassword\u001b[39;00m \u001b[39mimport\u001b[39;00m apikey           \u001b[39m#要先導入password.py裡面名為apikey的變量\u001b[39;00m\n\u001b[0;32m      <a href='vscode-notebook-cell:/c%3A/github/11209-python-19/2023.10.26hw/air.ipynb#W0sZmlsZQ%3D%3D?line=5'>6</a>\u001b[0m __all__ \u001b[39m=\u001b[39m [\u001b[39m'\u001b[39m\u001b[39mambient_air_sqlite_data\u001b[39m\u001b[39m'\u001b[39m]\n\u001b[0;32m      <a href='vscode-notebook-cell:/c%3A/github/11209-python-19/2023.10.26hw/air.ipynb#W0sZmlsZQ%3D%3D?line=7'>8</a>\u001b[0m \u001b[39m'''下載資料'''\u001b[39;00m\n",
      "\u001b[1;31mModuleNotFoundError\u001b[0m: No module named 'password'"
     ]
    }
   ],
   "source": [
    "import requests\n",
    "import sqlite3\n",
    "from datetime import datetime\n",
    "from password import apikey           #要先導入password.py裡面名為apikey的變量\n",
    "\n",
    "__all__ = ['ambient_air_sqlite_data']\n",
    "\n",
    "'''下載資料'''\n",
    "def download_air_data() -> dict:\n",
    "    \n",
    "    air_url = f\"https://data.moenv.gov.tw/api/v2/aqx_p_07?api_key=2867e21d1ce2209251dbb5b826e794df\"   #如果上面只寫import password，這邊資料就跑不出來\n",
    "    response = requests.get(air_url)\n",
    "    response.raise_for_status()\n",
    "    print('下載成功，你好棒喔！')\n",
    "    return response.json()\n",
    "\n",
    "'''創建資料表'''\n",
    "def  create_table(conn:sqlite3.Connection) -> None: \n",
    "    cursor = conn.cursor()\n",
    "    cursor.execute('''\n",
    "        CREATE TABLE IF NOT EXISTS \"空氣品質監測站基本資料\"(\n",
    "        \"ID\" INTEGER,\n",
    "        \"測站名稱\" TEXT NOT NULL,\n",
    "        \"測站英文名稱\" TEXT NOT NULL,\n",
    "        \"空品區\" TEXT NOT NULL,\n",
    "        \"城市\" TEXT,\n",
    "        \"鄉鎮\" TEXT,\n",
    "        \"測站地址\" TEXT,\n",
    "        \"經度\" TEXT,\n",
    "        \"緯度\" TEXT,\n",
    "        \"測站類型\" TEXT NOT NULL,\n",
    "        \"測站編號\" TEXT NOT NULL,\n",
    "        \"更新時間\" TEXT NOT NULL,    /*新增資料時有「更新時間」這項資料，創建資料表時也要有這個欄位*/\n",
    "        PRIMARY KEY('ID' AUTOINCREMENT)    /*注意此處語法，不能寫成\"PRIMARY KEY(ID AUTOINCREMENT)\"*/\n",
    "        )\n",
    "        ''')\n",
    "     \n",
    "    conn.commit()\n",
    "    \n",
    "'''新增資料'''        \n",
    "def insert_data(conn:sqlite3.Connection,values:list[any])->None:\n",
    "    cursor = conn.cursor()\n",
    "    current_time = datetime.now().strftime('%Y-%m-%d %H:%M:%S')\n",
    "    sql = '''\n",
    "    REPLACE INTO 空氣品質監測站基本資料(測站名稱,測站英文名稱,空品區,城市,鄉鎮,測站地址,經度,緯度,測站類型,測站編號,更新時間)\n",
    "        VALUES(?,?,?,?,?,?,?,?,?,?,?)\n",
    "    '''\n",
    "    values.append(current_time)   #既然values有新增時間，上面sql語法也要加入「更新時間」，VALUES的問號也要多加1個\n",
    "    cursor.execute(sql,values)\n",
    "    conn.commit()\n",
    "    \n",
    "'''下載,並更新資料庫''' \n",
    "def update_sqlite_data()->None:\n",
    "    data = download_air_data()\n",
    "    conn = sqlite3.connect(\"air.db\")\n",
    "    create_table(conn)\n",
    "    for item in data['records']:     #data本身是一個dictionary，後面要加對應的key值，才能抓到對應的value，而data['records']是一個list，裡面的item又是dictionary\n",
    "        \n",
    "        insert_data(conn,values=[item['siteid'],item['sitename'], item['siteengname'], item['areaname'], item['county'], item['township'], item['siteaddress'], item['twd97lon'], item['twd97lat'], item['sitetype']])\n",
    "    conn.close()\n",
    "\n",
    "update_sqlite_data()"
   ]
  }
 ],
 "metadata": {
  "kernelspec": {
   "display_name": ".venv",
   "language": "python",
   "name": "python3"
  },
  "language_info": {
   "codemirror_mode": {
    "name": "ipython",
    "version": 3
   },
   "file_extension": ".py",
   "mimetype": "text/x-python",
   "name": "python",
   "nbconvert_exporter": "python",
   "pygments_lexer": "ipython3",
   "version": "3.10.8"
  }
 },
 "nbformat": 4,
 "nbformat_minor": 2
}
