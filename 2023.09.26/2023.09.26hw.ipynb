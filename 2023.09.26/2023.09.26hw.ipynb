{
 "cells": [
  {
   "cell_type": "code",
   "execution_count": 18,
   "metadata": {},
   "outputs": [
    {
     "name": "stdout",
     "output_type": "stream",
     "text": [
      "6 2 3 5\n",
      "沒點QQ\n"
     ]
    }
   ],
   "source": [
    "import random\n",
    "a = random.randint(1, 6)\n",
    "b = random.randint(1, 6)\n",
    "c = random.randint(1, 6)\n",
    "d = random.randint(1, 6)\n",
    "print(a,b,c,d)\n",
    "if a==b==c==d:\n",
    "    print(\"豹子!!\")\n",
    "elif a==b and c==d or a==c and b==d or a==d and b==c:\n",
    "    ans=max(a,b,c,d)+max(a,b,c,d)\n",
    "    print(ans,\"點\")\n",
    "elif a==b==c or a==c==d or b==c==d:\n",
    "    print(\"3個一樣沒點QQ\")    \n",
    "elif a==b:\n",
    "    ans=c+d\n",
    "    print(ans,\"點\")         \n",
    "elif a==c:\n",
    "    ans=b+d \n",
    "    print(ans,\"點\")           \n",
    "elif a==d:\n",
    "    ans=b+c\n",
    "    print(ans,\"點\")       \n",
    "elif b==c:\n",
    "    ans=a+d\n",
    "    print(ans,\"點\")\n",
    "elif b==d:\n",
    "    ans=a+c\n",
    "    print(ans,\"點\")        \n",
    "elif c==d:\n",
    "    ans=a+b\n",
    "    print(ans,\"點\")         \n",
    "else:\n",
    "    print(\"沒點QQ\")"
   ]
  }
 ],
 "metadata": {
  "kernelspec": {
   "display_name": ".venv",
   "language": "python",
   "name": "python3"
  },
  "language_info": {
   "codemirror_mode": {
    "name": "ipython",
    "version": 3
   },
   "file_extension": ".py",
   "mimetype": "text/x-python",
   "name": "python",
   "nbconvert_exporter": "python",
   "pygments_lexer": "ipython3",
   "version": "3.10.8"
  },
  "orig_nbformat": 4
 },
 "nbformat": 4,
 "nbformat_minor": 2
}
