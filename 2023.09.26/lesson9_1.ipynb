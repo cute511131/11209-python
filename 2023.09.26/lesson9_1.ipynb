{
 "cells": [
  {
   "cell_type": "code",
   "execution_count": 3,
   "metadata": {},
   "outputs": [
    {
     "name": "stdout",
     "output_type": "stream",
     "text": [
      "主菜:滷雞腿\n",
      "配菜1:豆芽菜\n",
      "配菜2:三色豆\n",
      "配菜3:電話線\n"
     ]
    }
   ],
   "source": [
    "def order(primary:str, second1:str=\"豆芽菜\", second2:str=\"三色豆\",second3:str=\"電話線\") -> None:\n",
    "    print(f\"主菜:{primary}\")\n",
    "    print(f\"配菜1:{second1}\")\n",
    "    print(f\"配菜2:{second2}\")\n",
    "    print(f\"配菜3:{second3}\")\n",
    "\n",
    "order(\"滷雞腿\")"
   ]
  },
  {
   "cell_type": "code",
   "execution_count": 4,
   "metadata": {},
   "outputs": [
    {
     "name": "stdout",
     "output_type": "stream",
     "text": [
      "主菜:滷雞腿\n",
      "配菜1:豆芽菜\n",
      "配菜2:三色豆\n",
      "配菜3:青江菜\n"
     ]
    }
   ],
   "source": [
    "order(\"滷雞腿\",second3=\"青江菜\")"
   ]
  },
  {
   "cell_type": "code",
   "execution_count": 5,
   "metadata": {},
   "outputs": [
    {
     "name": "stdout",
     "output_type": "stream",
     "text": [
      "('蝦蟹貝品', '特選生食小砵', '生蠔', '加拿大黃金蟹', '松葉蟹', '台灣紅蟳', '日本A5和牛炙燒握壽司')\n"
     ]
    }
   ],
   "source": [
    "def buffet_101(*food):\n",
    "    print(food)\n",
    "\n",
    "buffet_101('蝦蟹貝品','特選生食小砵','生蠔','加拿大黃金蟹','松葉蟹','台灣紅蟳','日本A5和牛炙燒握壽司')"
   ]
  },
  {
   "cell_type": "code",
   "execution_count": 6,
   "metadata": {},
   "outputs": [
    {
     "name": "stdout",
     "output_type": "stream",
     "text": [
      "{'first': '大阪燒', 'second': '章魚燒', 'third': '鐵火丼', 'forth': '鹽烤香魚'}\n"
     ]
    }
   ],
   "source": [
    "def buffet_bella(**food):\n",
    "    print(food)\n",
    "\n",
    "buffet_bella(first=\"大阪燒\",second=\"章魚燒\",third=\"鐵火丼\",forth=\"鹽烤香魚\")"
   ]
  },
  {
   "cell_type": "code",
   "execution_count": 7,
   "metadata": {},
   "outputs": [
    {
     "name": "stdout",
     "output_type": "stream",
     "text": [
      "a,b,1,2,3,9,4,5\n"
     ]
    }
   ],
   "source": [
    "print(\"a\",\"b\",1,2,3,9,4,5,sep=\",\")"
   ]
  },
  {
   "cell_type": "code",
   "execution_count": null,
   "metadata": {},
   "outputs": [],
   "source": []
  }
 ],
 "metadata": {
  "kernelspec": {
   "display_name": ".venv",
   "language": "python",
   "name": "python3"
  },
  "language_info": {
   "codemirror_mode": {
    "name": "ipython",
    "version": 3
   },
   "file_extension": ".py",
   "mimetype": "text/x-python",
   "name": "python",
   "nbconvert_exporter": "python",
   "pygments_lexer": "ipython3",
   "version": "3.10.8"
  },
  "orig_nbformat": 4
 },
 "nbformat": 4,
 "nbformat_minor": 2
}
