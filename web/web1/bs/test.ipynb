{
 "cells": [
  {
   "cell_type": "code",
   "execution_count": 1,
   "metadata": {},
   "outputs": [
    {
     "ename": "ModuleNotFoundError",
     "evalue": "No module named 'psycopg2'",
     "output_type": "error",
     "traceback": [
      "\u001b[1;31m---------------------------------------------------------------------------\u001b[0m",
      "\u001b[1;31mModuleNotFoundError\u001b[0m                       Traceback (most recent call last)",
      "\u001b[1;32mc:\\github\\11209-python-19\\web\\web1\\bs\\test.ipynb 儲存格 1\u001b[0m line \u001b[0;36m1\n\u001b[1;32m----> <a href='vscode-notebook-cell:/c%3A/github/11209-python-19/web/web1/bs/test.ipynb#W0sZmlsZQ%3D%3D?line=0'>1</a>\u001b[0m \u001b[39mimport\u001b[39;00m \u001b[39mdatasource\u001b[39;00m\n\u001b[0;32m      <a href='vscode-notebook-cell:/c%3A/github/11209-python-19/web/web1/bs/test.ipynb#W0sZmlsZQ%3D%3D?line=1'>2</a>\u001b[0m \u001b[39mimport\u001b[39;00m \u001b[39mpandas\u001b[39;00m \u001b[39mas\u001b[39;00m \u001b[39mpd\u001b[39;00m\n\u001b[0;32m      <a href='vscode-notebook-cell:/c%3A/github/11209-python-19/web/web1/bs/test.ipynb#W0sZmlsZQ%3D%3D?line=3'>4</a>\u001b[0m data: \u001b[39mlist\u001b[39m[\u001b[39mtuple\u001b[39m] \u001b[39m=\u001b[39m datasource\u001b[39m.\u001b[39mlastest_datetime_data()\n",
      "File \u001b[1;32mc:\\github\\11209-python-19\\web\\web1\\bs\\datasource.py:2\u001b[0m\n\u001b[0;32m      1\u001b[0m \u001b[39mimport\u001b[39;00m \u001b[39mrequests\u001b[39;00m\n\u001b[1;32m----> 2\u001b[0m \u001b[39mimport\u001b[39;00m \u001b[39mpsycopg2\u001b[39;00m\n\u001b[0;32m      4\u001b[0m \u001b[39m# from . import password as pw\u001b[39;00m\n\u001b[0;32m      5\u001b[0m \u001b[39mimport\u001b[39;00m \u001b[39mpassword\u001b[39;00m \u001b[39mas\u001b[39;00m \u001b[39mpw\u001b[39;00m\n",
      "\u001b[1;31mModuleNotFoundError\u001b[0m: No module named 'psycopg2'"
     ]
    }
   ],
   "source": [
    "import datasource\n",
    "import pandas as pd\n",
    "\n",
    "data: list[tuple] = datasource.lastest_datetime_data()\n",
    "dataFrame = pd.DataFrame(data)\n",
    "\n",
    "\"\"\"\n",
    "for items in data:\n",
    "    for item in items:\n",
    "        print(item)\n",
    "    print(\"=========\")\n",
    "\"\"\"\n",
    "dataFrame"
   ]
  }
 ],
 "metadata": {
  "kernelspec": {
   "display_name": "Python 3",
   "language": "python",
   "name": "python3"
  },
  "language_info": {
   "codemirror_mode": {
    "name": "ipython",
    "version": 3
   },
   "file_extension": ".py",
   "mimetype": "text/x-python",
   "name": "python",
   "nbconvert_exporter": "python",
   "pygments_lexer": "ipython3",
   "version": "3.10.8"
  }
 },
 "nbformat": 4,
 "nbformat_minor": 2
}
