{
 "cells": [
  {
   "cell_type": "code",
   "execution_count": 7,
   "metadata": {},
   "outputs": [
    {
     "name": "stdout",
     "output_type": "stream",
     "text": [
      "True\n"
     ]
    }
   ],
   "source": [
    "try:\n",
    "    file = open('students.csv',encoding=\"utf-8\",mode=\"r\",newline=\"\")\n",
    "    file.close()#實體方法\n",
    "    print(file.closed)#實體attribute\n",
    "except:\n",
    "    print(\"讀檔錯誤\")"
   ]
  },
  {
   "cell_type": "code",
   "execution_count": 8,
   "metadata": {},
   "outputs": [
    {
     "name": "stdout",
     "output_type": "stream",
     "text": [
      "姓名,國文,英文,數學,地理,歷史\n",
      "長頸鹿,98,96,95,99,97\n",
      "肥嘟嘟,94,95,96,92,98\n",
      "\n",
      "True\n"
     ]
    }
   ],
   "source": [
    "try:\n",
    "    file = open('students.csv',encoding=\"utf-8\",mode=\"r\",newline=\"\")\n",
    "    print(file.read())\n",
    "    file.close()#實體方法\n",
    "    print(file.closed)#實體attribute\n",
    "except:\n",
    "    print(\"讀檔錯誤\")"
   ]
  },
  {
   "cell_type": "code",
   "execution_count": 9,
   "metadata": {},
   "outputs": [
    {
     "name": "stdout",
     "output_type": "stream",
     "text": [
      "姓名,國文,英文,數學,地理,歷史\n",
      "\n",
      "True\n"
     ]
    }
   ],
   "source": [
    "try:\n",
    "    file = open('students.csv',encoding=\"utf-8\",mode=\"r\",newline=\"\")\n",
    "    print(file.readline())\n",
    "    file.close()#實體方法\n",
    "    print(file.closed)#實體attribute\n",
    "except:\n",
    "    print(\"讀檔錯誤\")"
   ]
  },
  {
   "cell_type": "code",
   "execution_count": 10,
   "metadata": {},
   "outputs": [
    {
     "name": "stdout",
     "output_type": "stream",
     "text": [
      "姓名,國文,英文,數學,地理,歷史\n",
      "\n",
      "長頸鹿,98,96,95,99,97\n",
      "\n",
      "肥嘟嘟,94,95,96,92,98\n",
      "\n",
      "True\n"
     ]
    }
   ],
   "source": [
    "try:\n",
    "    file = open('students.csv',encoding=\"utf-8\",mode=\"r\",newline=\"\")\n",
    "    print(file.readline())\n",
    "    print(file.readline())\n",
    "    print(file.readline())\n",
    "    file.close()#實體方法\n",
    "    print(file.closed)#實體attribute\n",
    "except:\n",
    "    print(\"讀檔錯誤\")"
   ]
  },
  {
   "cell_type": "code",
   "execution_count": 15,
   "metadata": {},
   "outputs": [
    {
     "name": "stdout",
     "output_type": "stream",
     "text": [
      "<class '_csv.reader'>\n",
      "['姓名', '國文', '英文', '數學', '地理', '歷史']\n",
      "['長頸鹿', '98', '96', '95', '99', '97']\n",
      "['肥嘟嘟', '94', '95', '96', '92', '98']\n",
      "True\n"
     ]
    }
   ],
   "source": [
    "## https://steam.oxxostudio.tw/category/python/library/csv.html#a1\n",
    "## csv_reader\n",
    "\n",
    "import csv\n",
    "\n",
    "try:\n",
    "    file = open('students.csv',encoding=\"utf-8\",mode=\"r\",newline=\"\")\n",
    "    csv_reader = csv.reader(file)\n",
    "    print(type(csv_reader))\n",
    "    for row in csv_reader:\n",
    "        print(row)\n",
    "    file.close()#實體方法\n",
    "    print(file.closed)#實體attribute\n",
    "except:\n",
    "    print(\"讀檔錯誤\")"
   ]
  },
  {
   "cell_type": "code",
   "execution_count": 17,
   "metadata": {},
   "outputs": [
    {
     "name": "stdout",
     "output_type": "stream",
     "text": [
      "True\n"
     ]
    },
    {
     "data": {
      "text/plain": [
       "[['姓名', '國文', '英文', '數學', '地理', '歷史'],\n",
       " ['長頸鹿', '98', '96', '95', '99', '97'],\n",
       " ['肥嘟嘟', '94', '95', '96', '92', '98']]"
      ]
     },
     "execution_count": 17,
     "metadata": {},
     "output_type": "execute_result"
    }
   ],
   "source": [
    "import csv\n",
    "\n",
    "try:\n",
    "    file = open('students.csv',encoding=\"utf-8\",mode=\"r\",newline=\"\")\n",
    "    csv_reader = csv.reader(file)\n",
    "    csv_list = list(csv_reader)\n",
    "    file.close()#實體方法\n",
    "    print(file.closed)#實體attribute\n",
    "except:\n",
    "    print(\"讀檔錯誤\")\n",
    "\n",
    "csv_list"
   ]
  },
  {
   "cell_type": "code",
   "execution_count": 18,
   "metadata": {},
   "outputs": [
    {
     "data": {
      "text/plain": [
       "['肥嘟嘟', '94', '95', '96', '92', '98']"
      ]
     },
     "execution_count": 18,
     "metadata": {},
     "output_type": "execute_result"
    }
   ],
   "source": [
    "csv_list[2]"
   ]
  },
  {
   "cell_type": "code",
   "execution_count": 20,
   "metadata": {},
   "outputs": [
    {
     "data": {
      "text/plain": [
       "[{'姓名': '長頸鹿', '國文': '98', '英文': '96', '數學': '95', '地理': '99', '歷史': '97'},\n",
       " {'姓名': '肥嘟嘟', '國文': '94', '英文': '95', '數學': '96', '地理': '92', '歷史': '98'}]"
      ]
     },
     "execution_count": 20,
     "metadata": {},
     "output_type": "execute_result"
    }
   ],
   "source": [
    "## https://steam.oxxostudio.tw/category/python/library/csv.html#a1\n",
    "## csv_dictReader\n",
    "import csv\n",
    "\n",
    "try:\n",
    "    file = open('students.csv',encoding=\"utf-8\",mode=\"r\",newline=\"\")\n",
    "    csv_dictReader = csv.DictReader(file)\n",
    "    csv_list = list(csv_dictReader)\n",
    "    file.close()#實體方法\n",
    "except:\n",
    "    print(\"讀檔錯誤\")\n",
    "\n",
    "csv_list"
   ]
  },
  {
   "cell_type": "code",
   "execution_count": null,
   "metadata": {},
   "outputs": [],
   "source": []
  }
 ],
 "metadata": {
  "kernelspec": {
   "display_name": ".venv",
   "language": "python",
   "name": "python3"
  },
  "language_info": {
   "codemirror_mode": {
    "name": "ipython",
    "version": 3
   },
   "file_extension": ".py",
   "mimetype": "text/x-python",
   "name": "python",
   "nbconvert_exporter": "python",
   "pygments_lexer": "ipython3",
   "version": "3.10.8"
  }
 },
 "nbformat": 4,
 "nbformat_minor": 2
}
