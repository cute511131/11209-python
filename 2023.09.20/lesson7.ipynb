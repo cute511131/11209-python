{
 "cells": [
  {
   "cell_type": "code",
   "execution_count": 6,
   "metadata": {},
   "outputs": [
    {
     "name": "stdout",
     "output_type": "stream",
     "text": [
      "請輸入購買金額:130000\n",
      "104000.0\n"
     ]
    }
   ],
   "source": [
    "#輸入顧客購買金額，若金額在\n",
    "#100000元打8折. \n",
    "#50000打85折. \n",
    "#30000打9折. \n",
    "#10000打95折. \n",
    "\n",
    "#請輸入購買金額:130000\n",
    "#實付金額是: 104000.0 元\n",
    "import pyinputplus as pyip\n",
    "money = pyip.inputInt(prompt=\"請輸入購買金額:\")\n",
    "print(money)\n",
    "paymoney = \"\"\n",
    "if money >=100000:\n",
    "  paymoney = money * 0.8\n",
    "elif money >=50000 <100000:\n",
    "    paymoney= money * 0.85\n",
    "elif money >=30000 <50000:\n",
    "    paymoney = money * 0.9\n",
    "elif money>=10000 <30000:\n",
    "    paymoney=money*0.95\n",
    "else:\n",
    "    paymoney=money\n",
    "print(paymoney)\n"
   ]
  },
  {
   "cell_type": "code",
   "execution_count": 21,
   "metadata": {},
   "outputs": [
    {
     "name": "stdout",
     "output_type": "stream",
     "text": [
      "請輸入購買金額:999\n",
      "實付金額是: 999 元\n"
     ]
    }
   ],
   "source": [
    "#輸入顧客購買金額\n",
    "#滿千送百後再打折\n",
    "#100000元打8折. \n",
    "#50000打85折. \n",
    "#30000打9折. \n",
    "#10000打95折.\n",
    "import pyinputplus as pyip\n",
    "money = pyip.inputInt(prompt=\"請輸入購買金額:\")\n",
    "print(money)\n",
    "discount =money//1000*100\n",
    "money-=discount\n",
    "if money >=100000:\n",
    "    paymoney =money * 0.8 \n",
    "elif money >=50000 <100000:\n",
    "    paymoney= money* 0.85\n",
    "elif money >=30000 <50000:\n",
    "    paymoney = money* 0.9\n",
    "elif money>=10000 <30000:\n",
    "    paymoney=money*0.95\n",
    "else:\n",
    "    paymoney=money\n",
    "print(\"實付金額是:\", paymoney , \"元\")\n"
   ]
  },
  {
   "cell_type": "code",
   "execution_count": 23,
   "metadata": {},
   "outputs": [
    {
     "name": "stdout",
     "output_type": "stream",
     "text": [
      "請輸入國文分數:100\n",
      "請輸入數學分數:100\n",
      "獎金 1000\n"
     ]
    }
   ],
   "source": [
    "chinese = pyip.inputInt(\"請輸入國文分數:\")\n",
    "print(chinese)\n",
    "math = pyip.inputInt(\"請輸入數學分數:\")\n",
    "print(math)\n",
    "\n",
    "if chinese==100 and math==100:\n",
    "    bonus=1000\n",
    "elif chinese==100 or math==100:\n",
    "    bonus=500\n",
    "else:\n",
    "    bonus=0\n",
    "\n",
    "print(\"獎金:\",bonus)"
   ]
  }
 ],
 "metadata": {
  "kernelspec": {
   "display_name": ".venv",
   "language": "python",
   "name": "python3"
  },
  "language_info": {
   "codemirror_mode": {
    "name": "ipython",
    "version": 3
   },
   "file_extension": ".py",
   "mimetype": "text/x-python",
   "name": "python",
   "nbconvert_exporter": "python",
   "pygments_lexer": "ipython3",
   "version": "3.10.8"
  },
  "orig_nbformat": 4
 },
 "nbformat": 4,
 "nbformat_minor": 2
}
