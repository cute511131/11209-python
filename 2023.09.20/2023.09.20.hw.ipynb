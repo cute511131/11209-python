{
 "cells": [
  {
   "cell_type": "code",
   "execution_count": 4,
   "metadata": {},
   "outputs": [
    {
     "name": "stdout",
     "output_type": "stream",
     "text": [
      "請輸入身高(cm):177.0\n",
      "請輸入體重(kg):80.0\n",
      "您的BMI: 25.53544639152223\n",
      "您的體重 過重\n"
     ]
    }
   ],
   "source": [
    "#BMI 計算\n",
    "import pyinputplus as pyip\n",
    "height = pyip.inputFloat(prompt=\"請輸入身高(cm):\")\n",
    "print(height)\n",
    "weight=pyip.inputFloat(prompt=\"請輸入體重(kg):\")\n",
    "print(weight)\n",
    "bmi=weight/((height/100)**2)\n",
    "message =\"\"\n",
    "if bmi>30:\n",
    "    message= \"肥胖\"\n",
    "elif bmi>25 <=30:\n",
    "    message=\"過重\"\n",
    "elif bmi>18.5 <=25 :\n",
    "    message=\"正常\"\n",
    "else: \n",
    "    message =\"太輕\"\n",
    "\n",
    "print(\"您的BMI:\",bmi)\n",
    "print(\"您的體重\",message)\n",
    "\n",
    "\n",
    "\n",
    "\n"
   ]
  },
  {
   "cell_type": "code",
   "execution_count": 8,
   "metadata": {},
   "outputs": [
    {
     "name": "stdout",
     "output_type": "stream",
     "text": [
      "收縮壓: 130 舒張壓: 90\n",
      "高血壓一期\n"
     ]
    }
   ],
   "source": [
    "#血壓 計算\n",
    "sbp = int(input(\"請輸入收縮壓:\"))\n",
    "dbp= int(input(\"請輸入舒張壓:\"))\n",
    "message=\"\"\n",
    "\n",
    "if sbp >=130 and dbp <80:\n",
    "    message=\"單純收縮期高血壓\"\n",
    "elif sbp <120 and dbp <80:\n",
    "    message = \"正常\"\n",
    "elif sbp>=120 <=129 and dbp <80:\n",
    "    message =\"血壓升高\"\n",
    "elif (sbp >=130 and sbp<=139) or (dbp >=80 and dbp<=89):\n",
    "    message =\"高血壓一期\"\n",
    "else : \n",
    "    message =\"高血壓二期\"\n",
    "print(\"收縮壓:\",sbp ,\"舒張壓:\",dbp)\n",
    "print(message)\n"
   ]
  }
 ],
 "metadata": {
  "kernelspec": {
   "display_name": ".venv",
   "language": "python",
   "name": "python3"
  },
  "language_info": {
   "codemirror_mode": {
    "name": "ipython",
    "version": 3
   },
   "file_extension": ".py",
   "mimetype": "text/x-python",
   "name": "python",
   "nbconvert_exporter": "python",
   "pygments_lexer": "ipython3",
   "version": "3.10.8"
  },
  "orig_nbformat": 4
 },
 "nbformat": 4,
 "nbformat_minor": 2
}
