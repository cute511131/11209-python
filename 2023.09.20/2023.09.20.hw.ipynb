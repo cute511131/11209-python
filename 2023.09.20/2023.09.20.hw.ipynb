{
 "cells": [
  {
   "cell_type": "code",
   "execution_count": null,
   "metadata": {},
   "outputs": [],
   "source": [
    "import pyinputplus as pyip\n",
    "height = pyip.inputfloat(prompt=\"請輸入身高:\")\n",
    "print(height)\n",
    "weight=pyip.inputfloat(prompt=\"請輸入體重:\")\n",
    "print(weight)\n",
    "bmi=weight/(height**2)\n",
    "\n",
    "\n"
   ]
  }
 ],
 "metadata": {
  "kernelspec": {
   "display_name": ".venv",
   "language": "python",
   "name": "python3"
  },
  "language_info": {
   "name": "python",
   "version": "3.10.8"
  },
  "orig_nbformat": 4
 },
 "nbformat": 4,
 "nbformat_minor": 2
}
