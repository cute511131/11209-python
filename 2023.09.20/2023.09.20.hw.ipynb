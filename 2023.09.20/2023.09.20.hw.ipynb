{
 "cells": [
  {
   "cell_type": "code",
   "execution_count": 3,
   "metadata": {},
   "outputs": [
    {
     "name": "stdout",
     "output_type": "stream",
     "text": [
      "請輸入身高(cm):"
     ]
    },
    {
     "ename": "KeyboardInterrupt",
     "evalue": "Interrupted by user",
     "output_type": "error",
     "traceback": [
      "\u001b[1;31m---------------------------------------------------------------------------\u001b[0m",
      "\u001b[1;31mKeyboardInterrupt\u001b[0m                         Traceback (most recent call last)",
      "\u001b[1;32mc:\\github\\11209-python-6\\2023.09.20\\2023.09.20.hw.ipynb 儲存格 1\u001b[0m line \u001b[0;36m2\n\u001b[0;32m      <a href='vscode-notebook-cell:/c%3A/github/11209-python-6/2023.09.20/2023.09.20.hw.ipynb#W0sZmlsZQ%3D%3D?line=0'>1</a>\u001b[0m \u001b[39mimport\u001b[39;00m \u001b[39mpyinputplus\u001b[39;00m \u001b[39mas\u001b[39;00m \u001b[39mpyip\u001b[39;00m\n\u001b[1;32m----> <a href='vscode-notebook-cell:/c%3A/github/11209-python-6/2023.09.20/2023.09.20.hw.ipynb#W0sZmlsZQ%3D%3D?line=1'>2</a>\u001b[0m height \u001b[39m=\u001b[39m pyip\u001b[39m.\u001b[39;49minputFloat(prompt\u001b[39m=\u001b[39;49m\u001b[39m\"\u001b[39;49m\u001b[39m請輸入身高(cm):\u001b[39;49m\u001b[39m\"\u001b[39;49m)\n\u001b[0;32m      <a href='vscode-notebook-cell:/c%3A/github/11209-python-6/2023.09.20/2023.09.20.hw.ipynb#W0sZmlsZQ%3D%3D?line=2'>3</a>\u001b[0m \u001b[39mprint\u001b[39m(height)\n\u001b[0;32m      <a href='vscode-notebook-cell:/c%3A/github/11209-python-6/2023.09.20/2023.09.20.hw.ipynb#W0sZmlsZQ%3D%3D?line=3'>4</a>\u001b[0m weight\u001b[39m=\u001b[39mpyip\u001b[39m.\u001b[39minputFloat(prompt\u001b[39m=\u001b[39m\u001b[39m\"\u001b[39m\u001b[39m請輸入體重(kg):\u001b[39m\u001b[39m\"\u001b[39m)\n",
      "File \u001b[1;32mc:\\github\\11209-python-6\\.venv\\lib\\site-packages\\pyinputplus\\__init__.py:558\u001b[0m, in \u001b[0;36minputFloat\u001b[1;34m(prompt, default, blank, timeout, limit, strip, allowRegexes, blockRegexes, applyFunc, postValidateApplyFunc, min, max, lessThan, greaterThan)\u001b[0m\n\u001b[0;32m    543\u001b[0m pysv\u001b[39m.\u001b[39m_validateParamsFor_validateNum(\u001b[39mmin\u001b[39m\u001b[39m=\u001b[39m\u001b[39mmin\u001b[39m, \u001b[39mmax\u001b[39m\u001b[39m=\u001b[39m\u001b[39mmax\u001b[39m, lessThan\u001b[39m=\u001b[39mlessThan, greaterThan\u001b[39m=\u001b[39mgreaterThan)\n\u001b[0;32m    545\u001b[0m validationFunc \u001b[39m=\u001b[39m \u001b[39mlambda\u001b[39;00m value: pysv\u001b[39m.\u001b[39mvalidateNum(\n\u001b[0;32m    546\u001b[0m     value,\n\u001b[0;32m    547\u001b[0m     blank\u001b[39m=\u001b[39mblank,\n\u001b[1;32m   (...)\u001b[0m\n\u001b[0;32m    555\u001b[0m     _numType\u001b[39m=\u001b[39m\u001b[39m\"\u001b[39m\u001b[39mfloat\u001b[39m\u001b[39m\"\u001b[39m,\n\u001b[0;32m    556\u001b[0m )\n\u001b[1;32m--> 558\u001b[0m result \u001b[39m=\u001b[39m _genericInput(\n\u001b[0;32m    559\u001b[0m     prompt\u001b[39m=\u001b[39;49mprompt,\n\u001b[0;32m    560\u001b[0m     default\u001b[39m=\u001b[39;49mdefault,\n\u001b[0;32m    561\u001b[0m     timeout\u001b[39m=\u001b[39;49mtimeout,\n\u001b[0;32m    562\u001b[0m     limit\u001b[39m=\u001b[39;49mlimit,\n\u001b[0;32m    563\u001b[0m     applyFunc\u001b[39m=\u001b[39;49mapplyFunc,\n\u001b[0;32m    564\u001b[0m     validationFunc\u001b[39m=\u001b[39;49mvalidationFunc,\n\u001b[0;32m    565\u001b[0m )\n\u001b[0;32m    567\u001b[0m \u001b[39mtry\u001b[39;00m:\n\u001b[0;32m    568\u001b[0m     result \u001b[39m=\u001b[39m \u001b[39mfloat\u001b[39m(result)\n",
      "File \u001b[1;32mc:\\github\\11209-python-6\\.venv\\lib\\site-packages\\pyinputplus\\__init__.py:156\u001b[0m, in \u001b[0;36m_genericInput\u001b[1;34m(prompt, default, timeout, limit, applyFunc, validationFunc, postValidateApplyFunc, passwordMask)\u001b[0m\n\u001b[0;32m    154\u001b[0m \u001b[39mprint\u001b[39m(prompt, end\u001b[39m=\u001b[39m\u001b[39m\"\u001b[39m\u001b[39m\"\u001b[39m)\n\u001b[0;32m    155\u001b[0m \u001b[39mif\u001b[39;00m passwordMask \u001b[39mis\u001b[39;00m \u001b[39mNone\u001b[39;00m:\n\u001b[1;32m--> 156\u001b[0m     userInput \u001b[39m=\u001b[39m \u001b[39minput\u001b[39;49m()\n\u001b[0;32m    157\u001b[0m \u001b[39melse\u001b[39;00m:\n\u001b[0;32m    158\u001b[0m     userInput \u001b[39m=\u001b[39m stdiomask\u001b[39m.\u001b[39mgetpass(prompt\u001b[39m=\u001b[39m\u001b[39m\"\u001b[39m\u001b[39m\"\u001b[39m, mask\u001b[39m=\u001b[39mpasswordMask)\n",
      "File \u001b[1;32mc:\\github\\11209-python-6\\.venv\\lib\\site-packages\\ipykernel\\kernelbase.py:1202\u001b[0m, in \u001b[0;36mKernel.raw_input\u001b[1;34m(self, prompt)\u001b[0m\n\u001b[0;32m   1200\u001b[0m     msg \u001b[39m=\u001b[39m \u001b[39m\"\u001b[39m\u001b[39mraw_input was called, but this frontend does not support input requests.\u001b[39m\u001b[39m\"\u001b[39m\n\u001b[0;32m   1201\u001b[0m     \u001b[39mraise\u001b[39;00m StdinNotImplementedError(msg)\n\u001b[1;32m-> 1202\u001b[0m \u001b[39mreturn\u001b[39;00m \u001b[39mself\u001b[39;49m\u001b[39m.\u001b[39;49m_input_request(\n\u001b[0;32m   1203\u001b[0m     \u001b[39mstr\u001b[39;49m(prompt),\n\u001b[0;32m   1204\u001b[0m     \u001b[39mself\u001b[39;49m\u001b[39m.\u001b[39;49m_parent_ident[\u001b[39m\"\u001b[39;49m\u001b[39mshell\u001b[39;49m\u001b[39m\"\u001b[39;49m],\n\u001b[0;32m   1205\u001b[0m     \u001b[39mself\u001b[39;49m\u001b[39m.\u001b[39;49mget_parent(\u001b[39m\"\u001b[39;49m\u001b[39mshell\u001b[39;49m\u001b[39m\"\u001b[39;49m),\n\u001b[0;32m   1206\u001b[0m     password\u001b[39m=\u001b[39;49m\u001b[39mFalse\u001b[39;49;00m,\n\u001b[0;32m   1207\u001b[0m )\n",
      "File \u001b[1;32mc:\\github\\11209-python-6\\.venv\\lib\\site-packages\\ipykernel\\kernelbase.py:1245\u001b[0m, in \u001b[0;36mKernel._input_request\u001b[1;34m(self, prompt, ident, parent, password)\u001b[0m\n\u001b[0;32m   1242\u001b[0m \u001b[39mexcept\u001b[39;00m \u001b[39mKeyboardInterrupt\u001b[39;00m:\n\u001b[0;32m   1243\u001b[0m     \u001b[39m# re-raise KeyboardInterrupt, to truncate traceback\u001b[39;00m\n\u001b[0;32m   1244\u001b[0m     msg \u001b[39m=\u001b[39m \u001b[39m\"\u001b[39m\u001b[39mInterrupted by user\u001b[39m\u001b[39m\"\u001b[39m\n\u001b[1;32m-> 1245\u001b[0m     \u001b[39mraise\u001b[39;00m \u001b[39mKeyboardInterrupt\u001b[39;00m(msg) \u001b[39mfrom\u001b[39;00m \u001b[39mNone\u001b[39;00m\n\u001b[0;32m   1246\u001b[0m \u001b[39mexcept\u001b[39;00m \u001b[39mException\u001b[39;00m:\n\u001b[0;32m   1247\u001b[0m     \u001b[39mself\u001b[39m\u001b[39m.\u001b[39mlog\u001b[39m.\u001b[39mwarning(\u001b[39m\"\u001b[39m\u001b[39mInvalid Message:\u001b[39m\u001b[39m\"\u001b[39m, exc_info\u001b[39m=\u001b[39m\u001b[39mTrue\u001b[39;00m)\n",
      "\u001b[1;31mKeyboardInterrupt\u001b[0m: Interrupted by user"
     ]
    }
   ],
   "source": [
    "#BMI 計算\n",
    "import pyinputplus as pyip\n",
    "height = pyip.inputFloat(prompt=\"請輸入身高(cm):\")\n",
    "print(height)\n",
    "weight=pyip.inputFloat(prompt=\"請輸入體重(kg):\")\n",
    "print(weight)\n",
    "bmi=weight/((height/100)**2)\n",
    "message =\"\"\n",
    "if bmi>30:\n",
    "    message= \"肥胖\"\n",
    "elif bmi>25 <=30:\n",
    "    message=\"過重\"\n",
    "elif bmi>18.5 <=25 :\n",
    "    message=\"正常\"\n",
    "else: \n",
    "    message =\"太輕\"\n",
    "\n",
    "print(\"您的BMI:\",bmi)\n",
    "print(\"您的體重\",message)\n",
    "\n",
    "\n",
    "\n",
    "\n"
   ]
  },
  {
   "cell_type": "code",
   "execution_count": 2,
   "metadata": {},
   "outputs": [
    {
     "name": "stdout",
     "output_type": "stream",
     "text": [
      "收縮壓: 88 舒張壓: 141\n",
      "高血壓一期\n"
     ]
    }
   ],
   "source": [
    "#血壓 計算\n",
    "sbp = int(input(\"請輸入收縮壓:\"))\n",
    "dbp= int(input(\"請輸入舒張壓:\"))\n",
    "message=\"\"\n",
    "\n",
    "if sbp >=130 and dbp <80:\n",
    "    message=\"單純收縮期高血壓\"\n",
    "elif sbp <120 and dbp <80:\n",
    "    message = \"正常\"\n",
    "elif sbp>=120 <=129 and dbp <80:\n",
    "    message =\"血壓升高\"\n",
    "elif sbp >=130 <=139 or dbp >=80 <=89:\n",
    "    message =\"高血壓一期\"\n",
    "else : \n",
    "    message =\"高血壓二期\"\n",
    "print(\"收縮壓:\",sbp ,\"舒張壓:\",dbp)\n",
    "print(message)\n"
   ]
  }
 ],
 "metadata": {
  "kernelspec": {
   "display_name": ".venv",
   "language": "python",
   "name": "python3"
  },
  "language_info": {
   "codemirror_mode": {
    "name": "ipython",
    "version": 3
   },
   "file_extension": ".py",
   "mimetype": "text/x-python",
   "name": "python",
   "nbconvert_exporter": "python",
   "pygments_lexer": "ipython3",
   "version": "3.10.8"
  },
  "orig_nbformat": 4
 },
 "nbformat": 4,
 "nbformat_minor": 2
}
