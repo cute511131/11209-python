{
 "cells": [
  {
   "cell_type": "code",
   "execution_count": 7,
   "metadata": {},
   "outputs": [
    {
     "name": "stdout",
     "output_type": "stream",
     "text": [
      "請輸入第 1 月份存款:5\n",
      "目前距離目標還差:39795\n",
      "===========\n",
      "請輸入第 2 月份存款:5\n",
      "目前距離目標還差:39790\n",
      "===========\n",
      "請輸入第 3 月份存款:39790\n",
      "===========\n",
      "恭喜!已經存夠了,總共存了3月份總存款為:39800\n"
     ]
    }
   ],
   "source": [
    "#小明想要存錢買一輛機車,機車每輛39800元,他將每月存的錢輸入,當存款足夠買機車時,就顯示提示訊息告知。\n",
    "import pyinputplus as pyip\n",
    "\n",
    "month=0\n",
    "deposit =0\n",
    "while(deposit<39800):\n",
    "    month+=1\n",
    "    input_value = pyip.inputInt(f'請輸入第 {month} 月份存款:')\n",
    "    print(input_value)\n",
    "    deposit+=input_value\n",
    "    if deposit<39800:\n",
    "        print(f\"目前距離目標還差:{39800- deposit}\")\n",
    "    print(\"===========\")\n",
    "\n",
    "print(f\"恭喜!已經存夠了,總共存了{month}月份總存款為:{deposit}\")\n",
    "\n"
   ]
  },
  {
   "cell_type": "code",
   "execution_count": 7,
   "metadata": {},
   "outputs": [
    {
     "name": "stdout",
     "output_type": "stream",
     "text": [
      "d\n",
      "s\n",
      "d\n",
      "sq\n"
     ]
    }
   ],
   "source": [
    "while(True):\n",
    "    stuff = input(\"請輸入小寫英文字[按q會離開]:\")\n",
    "    if stuff == 'q':\n",
    "        break\n",
    "    print(stuff)"
   ]
  },
  {
   "cell_type": "code",
   "execution_count": 8,
   "metadata": {},
   "outputs": [
    {
     "name": "stdout",
     "output_type": "stream",
     "text": [
      "9的平方是81\n",
      "5的平方是25\n",
      "5的平方是25\n",
      "不做動作,請重新輸入\n",
      "不做動作,請重新輸入\n",
      "不做動作,請重新輸入\n",
      "5的平方是25\n"
     ]
    }
   ],
   "source": [
    "#奇數輸出平方\n",
    "#偶數不做任何動作\n",
    "while(True):\n",
    "    keyin = input(\"請輸入整,輸入[q]會離開:\")\n",
    "    if keyin == \"q\":\n",
    "        break\n",
    "    value =int(keyin)\n",
    "\n",
    "    if value%2 == 0:\n",
    "        print(\"不做動作,請重新輸入\")\n",
    "        continue\n",
    "    else:\n",
    "        print(f\"{value}的平方是{value**2}\")"
   ]
  },
  {
   "cell_type": "code",
   "execution_count": 1,
   "metadata": {},
   "outputs": [
    {
     "name": "stdout",
     "output_type": "stream",
     "text": [
      "5的平方是25\n",
      "不做動作,請重新輸入\n",
      "不做動作,請重新輸入\n",
      "豬頭 請輸入整數\n"
     ]
    }
   ],
   "source": [
    "while(True):\n",
    "    keyin = input(\"請輸入整數,輸入[q]會離開:\")\n",
    "    if keyin == \"q\":\n",
    "        break\n",
    "    try:\n",
    "        value =int(keyin)\n",
    "    except:\n",
    "        print('豬頭 請輸入整數')\n",
    "        continue\n",
    "    else :\n",
    "        if value%2 == 0:\n",
    "            print(\"不做動作,請重新輸入\")\n",
    "            continue\n",
    "        else:\n",
    "            print(f\"{value}的平方是{value**2}\")"
   ]
  },
  {
   "cell_type": "code",
   "execution_count": 3,
   "metadata": {},
   "outputs": [
    {
     "name": "stdout",
     "output_type": "stream",
     "text": [
      "18\n"
     ]
    }
   ],
   "source": [
    "while True:\n",
    "    try:\n",
    "        key_in =input(\"請輸入整數:\")\n",
    "        value=int(key_in)\n",
    "    except:\n",
    "        print(f\"{key_in}格式錯誤,請重新輸入\")\n",
    "        continue\n",
    "    else:\n",
    "        if value<=20 and value>=10:\n",
    "            break\n",
    "        else:\n",
    "            print(\"數值必需在10~20之間\")\n",
    "            continue\n",
    "print(value)"
   ]
  },
  {
   "cell_type": "code",
   "execution_count": 6,
   "metadata": {},
   "outputs": [
    {
     "data": {
      "text/plain": [
       "1"
      ]
     },
     "execution_count": 6,
     "metadata": {},
     "output_type": "execute_result"
    }
   ],
   "source": [
    "#建立亂數\n",
    "import random\n",
    "random.randint(1,10)"
   ]
  }
 ],
 "metadata": {
  "kernelspec": {
   "display_name": ".venv",
   "language": "python",
   "name": "python3"
  },
  "language_info": {
   "codemirror_mode": {
    "name": "ipython",
    "version": 3
   },
   "file_extension": ".py",
   "mimetype": "text/x-python",
   "name": "python",
   "nbconvert_exporter": "python",
   "pygments_lexer": "ipython3",
   "version": "3.10.8"
  },
  "orig_nbformat": 4
 },
 "nbformat": 4,
 "nbformat_minor": 2
}
