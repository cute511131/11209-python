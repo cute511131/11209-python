{
 "cells": [
  {
   "cell_type": "code",
   "execution_count": 12,
   "metadata": {},
   "outputs": [
    {
     "name": "stdout",
     "output_type": "stream",
     "text": [
      "求55的因數:\n",
      "55的因數為:1\n",
      "55的因數為:5\n",
      "55的因數為:11\n",
      "55的因數為:55\n"
     ]
    }
   ],
   "source": [
    "#求所有因數\n",
    "#print(num,\"的因數:\")\n",
    "num = int(input(\"請輸入整數，求所有因數:\"))\n",
    "print(f\"求{num}的因數:\")\n",
    "for i in range(1,num+1):\n",
    "    if num  % i == 0 :\n",
    "        print(f\"{num}的因數為:{i}\")\n",
    "    else:\n",
    "        pass\n"
   ]
  },
  {
   "cell_type": "code",
   "execution_count": 5,
   "metadata": {},
   "outputs": [
    {
     "name": "stdout",
     "output_type": "stream",
     "text": [
      "7和14的公因數有:1\n",
      "7和14的公因數有:7\n"
     ]
    }
   ],
   "source": [
    "#求公因數\n",
    "#print(\"請輸入2數,求2數公因數:\")\n",
    "n = int(input('請輸入第1個數:'))\n",
    "m = int(input('請輸入第2個數:'))\n",
    "a=0\n",
    "if n<m:\n",
    "    a=m\n",
    "else:\n",
    "    a=n\n",
    "\n",
    "for i in range(1,a+1):\n",
    "    if n%i== 0 and m%i == 0:\n",
    "        print(f'{n}和{m}的公因數有:{i}')\n",
    "    else:\n",
    "        continue"
   ]
  },
  {
   "cell_type": "code",
   "execution_count": 7,
   "metadata": {},
   "outputs": [
    {
     "name": "stdout",
     "output_type": "stream",
     "text": [
      "1到9的質數是:\n",
      "2,3,5,7,"
     ]
    }
   ],
   "source": [
    "#2~100,每一個的質數\n",
    "#end = int(input(\"請輸入end值:\"))\n",
    "#print(f\"1到{end}的質數是:\")\n",
    "a = int(input(\"請輸入end值:\"))\n",
    "print(f\"1到{a}的質數是:\")\n",
    "\n",
    "for i in range(2,a+1):\n",
    "    for b in range(2,i):\n",
    "        if i%b==0 and  i!=b:\n",
    "            break\n",
    "    else:\n",
    "            print(i,end=\",\")"
   ]
  },
  {
   "cell_type": "code",
   "execution_count": 8,
   "metadata": {},
   "outputs": [
    {
     "name": "stdout",
     "output_type": "stream",
     "text": [
      "9\n"
     ]
    }
   ],
   "source": [
    "while(True):\n",
    "    try:\n",
    "        input_value =int(input(\"請輸入整數\"))\n",
    "    except:\n",
    "        print(\"請輸入整數\")\n",
    "        continue\n",
    "    else:\n",
    "        print(input_value)\n",
    "        break"
   ]
  },
  {
   "cell_type": "code",
   "execution_count": 3,
   "metadata": {},
   "outputs": [
    {
     "name": "stdout",
     "output_type": "stream",
     "text": [
      "請輸入要猜的數字，在 1 到 100 之間\n",
      "您已經猜了1 次:\n",
      "再大一點\n",
      "請輸入要猜的數字，在 73 到 100 之間\n",
      "您已經猜了2 次:\n",
      "再大一點\n",
      "請輸入要猜的數字，在 73 到 100 之間\n",
      "您已經猜了3 次:\n",
      "再大一點\n",
      "請輸入要猜的數字，在 89 到 100 之間\n",
      "您已經猜了4 次:\n",
      "再大一點\n",
      "請輸入要猜的數字，在 91 到 100 之間\n",
      "您已經猜了5 次:\n",
      "再小一點\n",
      "請輸入要猜的數字，在 91 到 966 之間\n",
      "您已經猜了5 次:\n",
      "猜到了\n"
     ]
    }
   ],
   "source": [
    "import random\n",
    "target = random.randint(1,100)\n",
    "l=1\n",
    "h=100\n",
    "count = 0\n",
    "while (True):\n",
    "    print(\"請輸入要猜的數字，在\", l , \"到\",h ,\"之間\")\n",
    "    keyin  =  int(input())\n",
    "    if(target== keyin):\n",
    "        print(f'您已經猜了{count} 次:')\n",
    "        print(\"猜到了\")\n",
    "        break\n",
    "    elif(target< keyin):\n",
    "        count+=1\n",
    "        print(f'您已經猜了{count} 次:')\n",
    "        print(\"再小一點\")\n",
    "        h=keyin\n",
    "        continue\n",
    "    elif(target >keyin):\n",
    "        count+=1\n",
    "        print(f'您已經猜了{count} 次:')\n",
    "        print(\"再大一點\")\n",
    "        l = keyin\n",
    "        continue"
   ]
  }
 ],
 "metadata": {
  "kernelspec": {
   "display_name": ".venv",
   "language": "python",
   "name": "python3"
  },
  "language_info": {
   "codemirror_mode": {
    "name": "ipython",
    "version": 3
   },
   "file_extension": ".py",
   "mimetype": "text/x-python",
   "name": "python",
   "nbconvert_exporter": "python",
   "pygments_lexer": "ipython3",
   "version": "3.10.8"
  },
  "orig_nbformat": 4
 },
 "nbformat": 4,
 "nbformat_minor": 2
}
