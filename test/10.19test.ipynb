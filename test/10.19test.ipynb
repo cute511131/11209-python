{
 "cells": [
  {
   "cell_type": "code",
   "execution_count": 3,
   "metadata": {},
   "outputs": [
    {
     "ename": "ValueError",
     "evalue": "I/O operation on closed file.",
     "output_type": "error",
     "traceback": [
      "\u001b[1;31m---------------------------------------------------------------------------\u001b[0m",
      "\u001b[1;31mValueError\u001b[0m                                Traceback (most recent call last)",
      "\u001b[1;32mc:\\github\\11209-python-19\\test\\10.19test.ipynb 儲存格 1\u001b[0m line \u001b[0;36m1\n\u001b[0;32m     <a href='vscode-notebook-cell:/c%3A/github/11209-python-19/test/10.19test.ipynb#W0sZmlsZQ%3D%3D?line=9'>10</a>\u001b[0m \u001b[39mwith\u001b[39;00m \u001b[39mopen\u001b[39m(\u001b[39m'\u001b[39m\u001b[39m./台積電.csv\u001b[39m\u001b[39m'\u001b[39m,\u001b[39m'\u001b[39m\u001b[39mr\u001b[39m\u001b[39m'\u001b[39m,encoding\u001b[39m=\u001b[39m\u001b[39m'\u001b[39m\u001b[39mutf-8\u001b[39m\u001b[39m'\u001b[39m) \u001b[39mas\u001b[39;00m file:\n\u001b[0;32m     <a href='vscode-notebook-cell:/c%3A/github/11209-python-19/test/10.19test.ipynb#W0sZmlsZQ%3D%3D?line=10'>11</a>\u001b[0m     reader\u001b[39m=\u001b[39mcsv\u001b[39m.\u001b[39mDictReader(file)\n\u001b[1;32m---> <a href='vscode-notebook-cell:/c%3A/github/11209-python-19/test/10.19test.ipynb#W0sZmlsZQ%3D%3D?line=11'>12</a>\u001b[0m \u001b[39mfor\u001b[39;00m row \u001b[39min\u001b[39;00m reader:\n\u001b[0;32m     <a href='vscode-notebook-cell:/c%3A/github/11209-python-19/test/10.19test.ipynb#W0sZmlsZQ%3D%3D?line=12'>13</a>\u001b[0m \u001b[39m#print(type(row)) #驗證型別\u001b[39;00m\n\u001b[0;32m     <a href='vscode-notebook-cell:/c%3A/github/11209-python-19/test/10.19test.ipynb#W0sZmlsZQ%3D%3D?line=13'>14</a>\u001b[0m     stock\u001b[39m.\u001b[39mappend(row)\n\u001b[0;32m     <a href='vscode-notebook-cell:/c%3A/github/11209-python-19/test/10.19test.ipynb#W0sZmlsZQ%3D%3D?line=14'>15</a>\u001b[0m \u001b[39mwith\u001b[39;00m \u001b[39mopen\u001b[39m(\u001b[39m'\u001b[39m\u001b[39m2330.json\u001b[39m\u001b[39m'\u001b[39m,\u001b[39m'\u001b[39m\u001b[39mw\u001b[39m\u001b[39m'\u001b[39m,encoding\u001b[39m=\u001b[39m\u001b[39m'\u001b[39m\u001b[39mutf-8\u001b[39m\u001b[39m'\u001b[39m) \u001b[39mas\u001b[39;00m file2:\n",
      "File \u001b[1;32m~\\Desktop\\python3108\\lib\\csv.py:110\u001b[0m, in \u001b[0;36mDictReader.__next__\u001b[1;34m(self)\u001b[0m\n\u001b[0;32m    107\u001b[0m \u001b[39mdef\u001b[39;00m \u001b[39m__next__\u001b[39m(\u001b[39mself\u001b[39m):\n\u001b[0;32m    108\u001b[0m     \u001b[39mif\u001b[39;00m \u001b[39mself\u001b[39m\u001b[39m.\u001b[39mline_num \u001b[39m==\u001b[39m \u001b[39m0\u001b[39m:\n\u001b[0;32m    109\u001b[0m         \u001b[39m# Used only for its side effect.\u001b[39;00m\n\u001b[1;32m--> 110\u001b[0m         \u001b[39mself\u001b[39;49m\u001b[39m.\u001b[39;49mfieldnames\n\u001b[0;32m    111\u001b[0m     row \u001b[39m=\u001b[39m \u001b[39mnext\u001b[39m(\u001b[39mself\u001b[39m\u001b[39m.\u001b[39mreader)\n\u001b[0;32m    112\u001b[0m     \u001b[39mself\u001b[39m\u001b[39m.\u001b[39mline_num \u001b[39m=\u001b[39m \u001b[39mself\u001b[39m\u001b[39m.\u001b[39mreader\u001b[39m.\u001b[39mline_num\n",
      "File \u001b[1;32m~\\Desktop\\python3108\\lib\\csv.py:97\u001b[0m, in \u001b[0;36mDictReader.fieldnames\u001b[1;34m(self)\u001b[0m\n\u001b[0;32m     95\u001b[0m \u001b[39mif\u001b[39;00m \u001b[39mself\u001b[39m\u001b[39m.\u001b[39m_fieldnames \u001b[39mis\u001b[39;00m \u001b[39mNone\u001b[39;00m:\n\u001b[0;32m     96\u001b[0m     \u001b[39mtry\u001b[39;00m:\n\u001b[1;32m---> 97\u001b[0m         \u001b[39mself\u001b[39m\u001b[39m.\u001b[39m_fieldnames \u001b[39m=\u001b[39m \u001b[39mnext\u001b[39;49m(\u001b[39mself\u001b[39;49m\u001b[39m.\u001b[39;49mreader)\n\u001b[0;32m     98\u001b[0m     \u001b[39mexcept\u001b[39;00m \u001b[39mStopIteration\u001b[39;00m:\n\u001b[0;32m     99\u001b[0m         \u001b[39mpass\u001b[39;00m\n",
      "\u001b[1;31mValueError\u001b[0m: I/O operation on closed file."
     ]
    }
   ],
   "source": [
    "\n",
    "\n",
    "#將台積電.csv整理為json格式\n",
    "#建立一個台積電的資料庫及資料表\n",
    "#把json格式的資料進入資料表\n",
    "\n",
    "#將台積電.csv整理為json格式\n",
    "import json\n",
    "import csv\n",
    "\n",
    "stock=[]\n",
    "with open('./台積電.csv','r',encoding='utf-8') as file:\n",
    "    reader=csv.DictReader(file)\n",
    "for row in reader:\n",
    "#print(type(row)) #驗證型別\n",
    "    stock.append(row)\n",
    "with open('2330.json','w',encoding='utf-8') as file2:\n",
    "    json.dump(stock,file2,ensure_ascii=False)\n",
    "\n",
    "#建立一個台積電的資料庫及資料表\n",
    "import sqlite3\n",
    "\n",
    "def create_table(conn):\n",
    "    conn=sqlite3.connect('stock.db')\n",
    "cursor=conn.cursor()\n",
    "cursor.execute(\n",
    "'''\n",
    "CREATE TABLE IF NOT EXISTS 台積電(\n",
    "\"id\" INTEGER,\n",
    "\"交易日\" TEXT NOT NULL,\n",
    "\"開盤價\" TEXT NOT NULL,\n",
    "\"當日最高價\" TEXT NOT NULL,\n",
    "\"當日最低價\" TEXT NOT NULL,\n",
    "\"收盤價\" TEXT NOT NULL,\n",
    "\"調整後收盤價\" TEXT NOT NULL,\n",
    "\"當日成交量\" TEXT NOT NULL,\n",
    "PRIMARY KEY(\"id\" AUTOINCREMENT)\n",
    "\n",
    ");\n",
    "'''\n",
    ")\n",
    "conn.commit()\n",
    "def insert_data(conn,values):\n",
    "    cursor = conn.cursor()\n",
    "sql = '''\n",
    "INSERT INTO 台積電(交易日,開盤價,當日最高價,當日最低價,收盤價,調整後收盤價,當日成交量)\n",
    "VALUES(?,?,?,?,?,?,?)\n",
    "'''\n",
    "cursor.execute(sql,values)\n",
    "conn.commit()\n",
    "\n",
    "conn = sqlite3.connect(\"stock.db\")\n",
    "create_table(conn)\n",
    "\n",
    "#把json格式的資料進入資料表\n",
    "with open('./2330.json','r',encoding='utf-8') as file:\n",
    "    reader=json.load(file)\n",
    "for item in reader:\n",
    "#print(type(item)) #驗證item型別\n",
    "    insert_data(conn,[item['Date'],item['Open'],item['High'],item['Low'],item['Close'],item['Adj Close'],item['Volume']])\n",
    "\n"
   ]
  }
 ],
 "metadata": {
  "kernelspec": {
   "display_name": ".venv",
   "language": "python",
   "name": "python3"
  },
  "language_info": {
   "codemirror_mode": {
    "name": "ipython",
    "version": 3
   },
   "file_extension": ".py",
   "mimetype": "text/x-python",
   "name": "python",
   "nbconvert_exporter": "python",
   "pygments_lexer": "ipython3",
   "version": "3.10.8"
  }
 },
 "nbformat": 4,
 "nbformat_minor": 2
}
